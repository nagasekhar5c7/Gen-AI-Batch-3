{
 "cells": [
  {
   "cell_type": "markdown",
   "metadata": {},
   "source": [
    "Advanced Python Topics\n",
    "\n",
    "- Iterators\n",
    "- Generators\n",
    "- Decorators"
   ]
  },
  {
   "cell_type": "code",
   "execution_count": 2,
   "metadata": {},
   "outputs": [],
   "source": [
    "# Iterators\n",
    "# An iterator in Python is an object that allows traversal of a sequence (like a list, tuple, or dictionary) one element at a \n",
    "# time without using indexing.\n",
    "\n",
    "\n",
    "# What is an Iterator?\n",
    "# An iterator is an object that implements __iter__() and __next__().\n",
    "# It remembers the last accessed value and provides the next item when next() is called.\n",
    "# Iterators do not generate values on the fly; they store data in memory."
   ]
  },
  {
   "cell_type": "code",
   "execution_count": 3,
   "metadata": {},
   "outputs": [
    {
     "name": "stdout",
     "output_type": "stream",
     "text": [
      "10\n",
      "20\n",
      "30\n"
     ]
    },
    {
     "ename": "StopIteration",
     "evalue": "",
     "output_type": "error",
     "traceback": [
      "\u001b[0;31m---------------------------------------------------------------------------\u001b[0m",
      "\u001b[0;31mStopIteration\u001b[0m                             Traceback (most recent call last)",
      "Cell \u001b[0;32mIn[3], line 7\u001b[0m\n\u001b[1;32m      5\u001b[0m \u001b[38;5;28mprint\u001b[39m(\u001b[38;5;28mnext\u001b[39m(iter_obj))  \u001b[38;5;66;03m# Output: 20\u001b[39;00m\n\u001b[1;32m      6\u001b[0m \u001b[38;5;28mprint\u001b[39m(\u001b[38;5;28mnext\u001b[39m(iter_obj))  \u001b[38;5;66;03m# Output: 30\u001b[39;00m\n\u001b[0;32m----> 7\u001b[0m \u001b[38;5;28mprint\u001b[39m(\u001b[38;5;28;43mnext\u001b[39;49m\u001b[43m(\u001b[49m\u001b[43miter_obj\u001b[49m\u001b[43m)\u001b[49m)  \u001b[38;5;66;03m# Raises StopIteration (No more elements)\u001b[39;00m\n",
      "\u001b[0;31mStopIteration\u001b[0m: "
     ]
    }
   ],
   "source": [
    "numbers = [10, 20, 30]\n",
    "iter_obj = iter(numbers)  # Creating an iterator\n",
    "\n",
    "print(next(iter_obj))  # Output: 10\n",
    "print(next(iter_obj))  # Output: 20\n",
    "print(next(iter_obj))  # Output: 30\n",
    "print(next(iter_obj))  # Raises StopIteration (No more elements)\n"
   ]
  },
  {
   "cell_type": "code",
   "execution_count": null,
   "metadata": {},
   "outputs": [],
   "source": [
    "L = [1,2,3,4]\n",
    "\n",
    "for i in L:\n",
    "    print(i)"
   ]
  },
  {
   "cell_type": "code",
   "execution_count": 73,
   "metadata": {},
   "outputs": [
    {
     "data": {
      "text/plain": [
       "'cnn'"
      ]
     },
     "execution_count": 73,
     "metadata": {},
     "output_type": "execute_result"
    }
   ],
   "source": [
    "class RemoteControl:\n",
    "    def __init__(self):\n",
    "        self.channels = [\"HBO\", \"cnn\", \"abc\", \"espn\"]\n",
    "        self.index = -1\n",
    "\n",
    "    def __iter__(self):\n",
    "        return self\n",
    "\n",
    "    def __next__(self):\n",
    "        self.index += 1\n",
    "        if self.index == len(self.channels):\n",
    "            raise StopIteration\n",
    "        return self.channels[self.index]\n",
    "\n",
    "r = RemoteControl()\n",
    "itr = iter(r)\n",
    "next(itr)\n",
    "next(itr)\n",
    "\n"
   ]
  },
  {
   "cell_type": "code",
   "execution_count": 5,
   "metadata": {},
   "outputs": [
    {
     "name": "stdout",
     "output_type": "stream",
     "text": [
      "1\n",
      "2\n",
      "3\n",
      "4\n"
     ]
    }
   ],
   "source": [
    "# Generators\n",
    "# A generator is a simplified way to create iterators using a function with yield.\n",
    "# It does not store all values in memory; instead, it generates values lazily (on demand).\n",
    "# Automatically remembers the last execution state.\n",
    "\n",
    "def counter(start, end):\n",
    "    while start <= end:\n",
    "        yield start  # Produces values one by one\n",
    "        start += 1\n",
    "\n",
    "\n",
    "gen = counter(1, 4)\n",
    "print(next(gen))  # Output: 1\n",
    "print(next(gen))  # Output: 2\n",
    "print(next(gen))  # Output: 3\n",
    "print(next(gen))  # StopIteration Error\n"
   ]
  },
  {
   "cell_type": "code",
   "execution_count": 1,
   "metadata": {},
   "outputs": [],
   "source": [
    "# Creating a large file (1GB) with dummy text\n",
    "with open(\"large_file.txt\", \"w\") as file:\n",
    "    for i in range(10**8):  # 10 million lines\n",
    "        file.write(f\"Line {i}: This is a test line.\\n\")"
   ]
  },
  {
   "cell_type": "code",
   "execution_count": 7,
   "metadata": {},
   "outputs": [
    {
     "name": "stdout",
     "output_type": "stream",
     "text": [
      "Iterator Approach Time: 47.93 seconds\n"
     ]
    }
   ],
   "source": [
    "# Step 2: Reading Large File Using an Iterator (Memory-Heavy Approach)\n",
    "\n",
    "import time\n",
    "\n",
    "class FileReaderIterator:\n",
    "    def __init__(self, file_path):\n",
    "        self.file = open(file_path, \"r\")\n",
    "        self.lines = self.file.readlines()  # Loads entire file into memory\n",
    "        self.index = 0\n",
    "\n",
    "    def __iter__(self):\n",
    "        return self\n",
    "\n",
    "    def __next__(self):\n",
    "        if self.index >= len(self.lines):\n",
    "            self.file.close()\n",
    "            raise StopIteration\n",
    "        line = self.lines[self.index]\n",
    "        self.index += 1\n",
    "        return line.strip()\n",
    "\n",
    "# Measuring time and memory usage\n",
    "start_time = time.time()\n",
    "reader = FileReaderIterator(\"large_file.txt\")\n",
    "\n",
    "for line in reader:\n",
    "    pass  # Just iterating through all lines\n",
    "\n",
    "print(f\"Iterator Approach Time: {time.time() - start_time:.2f} seconds\")\n"
   ]
  },
  {
   "cell_type": "code",
   "execution_count": 8,
   "metadata": {},
   "outputs": [
    {
     "name": "stdout",
     "output_type": "stream",
     "text": [
      "Generator Approach Time: 20.40 seconds\n"
     ]
    }
   ],
   "source": [
    "# Step 3: Reading Large File Using a Generator (Memory-Efficient Approach)\n",
    "import time\n",
    "\n",
    "def file_reader_generator(file_path):\n",
    "    with open(file_path, \"r\") as file:\n",
    "        for line in file:\n",
    "            yield line.strip()  # Generates one line at a time\n",
    "\n",
    "# Measuring time and memory usage\n",
    "start_time = time.time()\n",
    "reader = file_reader_generator(\"large_file.txt\")\n",
    "\n",
    "for line in reader:\n",
    "    pass  # Just iterating through all lines\n",
    "\n",
    "print(f\"Generator Approach Time: {time.time() - start_time:.2f} seconds\")\n"
   ]
  },
  {
   "cell_type": "code",
   "execution_count": 60,
   "metadata": {},
   "outputs": [
    {
     "name": "stdout",
     "output_type": "stream",
     "text": [
      "0.5\n"
     ]
    }
   ],
   "source": [
    "# Decorators\n",
    "\n",
    "# Decorators are a powerful and flexible way to modify or extend the behavior of functions or methods, without changing their actual code.\n",
    "\n",
    "def div(a,b):\n",
    "    print(a/b)  \n",
    "\n",
    "div(2,4)"
   ]
  },
  {
   "cell_type": "code",
   "execution_count": 59,
   "metadata": {},
   "outputs": [
    {
     "name": "stdout",
     "output_type": "stream",
     "text": [
      "2.0\n"
     ]
    }
   ],
   "source": [
    "def div(a,b):\n",
    "    if a<b:\n",
    "        a,b=b,a\n",
    "    print(a/b)\n",
    "\n",
    "div(2,4)"
   ]
  },
  {
   "cell_type": "code",
   "execution_count": 61,
   "metadata": {},
   "outputs": [
    {
     "name": "stdout",
     "output_type": "stream",
     "text": [
      "2.0\n"
     ]
    }
   ],
   "source": [
    "# Add extra features to my existing function\n",
    "\n",
    "def smart_div(func):\n",
    "    def inner(a,b):\n",
    "        if a<b:\n",
    "            a,b=b,a\n",
    "        return func(a,b)\n",
    "    return inner\n",
    "\n",
    "div1 = smart_div(div)\n",
    "div1(2,4)\n"
   ]
  },
  {
   "cell_type": "code",
   "execution_count": 67,
   "metadata": {},
   "outputs": [
    {
     "name": "stdout",
     "output_type": "stream",
     "text": [
      "🍯 Adding honey!\n",
      "Here is your pancake 🥞\n"
     ]
    }
   ],
   "source": [
    "def add_honey(func):  # The decorator (Chef)\n",
    "    def wrapper():\n",
    "        print(\"🍯 Adding honey!\")\n",
    "        func()\n",
    "    return wrapper\n",
    "\n",
    "@add_honey  # This tells Python: \"Always add honey first!\"\n",
    "def serve_pancake():\n",
    "    print(\"Here is your pancake 🥞\")\n",
    "\n",
    "serve_pancake()"
   ]
  }
 ],
 "metadata": {
  "kernelspec": {
   "display_name": "py313",
   "language": "python",
   "name": "python3"
  },
  "language_info": {
   "codemirror_mode": {
    "name": "ipython",
    "version": 3
   },
   "file_extension": ".py",
   "mimetype": "text/x-python",
   "name": "python",
   "nbconvert_exporter": "python",
   "pygments_lexer": "ipython3",
   "version": "3.13.2"
  }
 },
 "nbformat": 4,
 "nbformat_minor": 2
}
