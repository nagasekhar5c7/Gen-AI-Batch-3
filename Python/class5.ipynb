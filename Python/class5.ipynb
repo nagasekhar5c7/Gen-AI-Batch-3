{
 "cells": [
  {
   "cell_type": "code",
   "execution_count": null,
   "metadata": {},
   "outputs": [
    {
     "name": "stdout",
     "output_type": "stream",
     "text": [
      "6\n"
     ]
    }
   ],
   "source": [
    "## function with multiple parameters\n",
    "\n",
    "def add(a,b):\n",
    "    return a+b\n",
    "\n",
    "result=add(2,4)\n",
    "print(result)"
   ]
  },
  {
   "cell_type": "code",
   "execution_count": 66,
   "metadata": {},
   "outputs": [
    {
     "name": "stdout",
     "output_type": "stream",
     "text": [
      "Ordered a Large pizza with Pepperoni.\n",
      "Ordered a Cheese pizza with Medium.\n"
     ]
    }
   ],
   "source": [
    "# Positional Parameters\n",
    "\n",
    "def order_pizza(size, topping):\n",
    "    print(f\"Ordered a {size} pizza with {topping}.\")\n",
    "\n",
    "order_pizza(\"Large\", \"Pepperoni\")  # Correct\n",
    "order_pizza(\"Cheese\", \"Medium\")  # Oops! Cheese-sized pizza? 😆"
   ]
  },
  {
   "cell_type": "code",
   "execution_count": null,
   "metadata": {},
   "outputs": [],
   "source": [
    "# Keyword Parameters\n",
    "\n",
    "def order_pizza(size, topping):\n",
    "    print(f\"Ordered a {size} pizza with {topping}.\")\n",
    "\n",
    "order_pizza(size=\"Medium\", topping=\"Mushrooms\")  \n",
    "order_pizza(topping=\"Olives\", size=\"Large\")  # Works fine!\n"
   ]
  },
  {
   "cell_type": "code",
   "execution_count": 67,
   "metadata": {},
   "outputs": [
    {
     "name": "stdout",
     "output_type": "stream",
     "text": [
      "Ordered a Medium pizza with Cheese.\n",
      "Ordered a Medium pizza with Bacon.\n"
     ]
    }
   ],
   "source": [
    "# Default Parameters\n",
    "\n",
    "def order_pizza(size=\"Medium\", topping=\"Cheese\"):\n",
    "    print(f\"Ordered a {size} pizza with {topping}.\")\n",
    "\n",
    "order_pizza()  # Default Medium Cheese Pizza\n",
    "order_pizza(topping=\"Bacon\")  # Default size, custom topping\n"
   ]
  },
  {
   "cell_type": "code",
   "execution_count": null,
   "metadata": {},
   "outputs": [
    {
     "name": "stdout",
     "output_type": "stream",
     "text": [
      "Ordered a Large pizza with: Cheese, Mushrooms, Jalapenos, Olives\n"
     ]
    }
   ],
   "source": [
    "### Variable-Length Positional Parameters\n",
    "\n",
    "def order_pizza(size, *toppings):\n",
    "    print(f\"Ordered a {size} pizza with: {', '.join(toppings)}\")\n",
    "\n",
    "order_pizza(\"Large\", \"Cheese\", \"Mushrooms\", \"Jalapenos\", \"Olives\")  \n"
   ]
  },
  {
   "cell_type": "code",
   "execution_count": 6,
   "metadata": {},
   "outputs": [
    {
     "name": "stdout",
     "output_type": "stream",
     "text": [
      "Ordered a Medium pizza with ('Pepperoni', 'cheese', 'olives').\n",
      "no_onions True\n",
      "extra_sauce Yes\n",
      "cut_style Squares\n"
     ]
    }
   ],
   "source": [
    "### Variable-Length Keyword Parameters\n",
    "\n",
    "def order_pizza(size, *topping, **special_instructions):\n",
    "    print(f\"Ordered a {size} pizza with {topping}.\")\n",
    "    for key, value in special_instructions.items():\n",
    "        print(key,value)\n",
    "\n",
    "order_pizza(\"Medium\", \"Pepperoni\",\"cheese\" , \"olives\" ,no_onions=True, extra_sauce=\"Yes\", cut_style=\"Squares\")\n",
    "\n"
   ]
  },
  {
   "cell_type": "code",
   "execution_count": 8,
   "metadata": {},
   "outputs": [
    {
     "name": "stdout",
     "output_type": "stream",
     "text": [
      "(6, 0.6666666666666666)\n"
     ]
    }
   ],
   "source": [
    "### Return multiple parameters\n",
    "def multiply(a,b):\n",
    "    return a*b,a/b\n",
    "\n",
    "print(multiply(2,3))\n"
   ]
  },
  {
   "cell_type": "code",
   "execution_count": 1,
   "metadata": {},
   "outputs": [
    {
     "data": {
      "text/plain": [
       "5"
      ]
     },
     "execution_count": 1,
     "metadata": {},
     "output_type": "execute_result"
    }
   ],
   "source": [
    "# Lambda Functions in Python\n",
    "# Lambda functions are small anonymous functions defined using the lambda keyword. \n",
    "# They can have any number of arguments but only one expression. \n",
    "# They are commonly used for short operations or as arguments to higher-order functions.\n",
    "\n",
    "# Syntax\n",
    "# lambda arguments: expression\n",
    "\n",
    "def addition(a,b):\n",
    "    return a+b\n",
    "\n",
    "addition(2,3)"
   ]
  },
  {
   "cell_type": "code",
   "execution_count": 2,
   "metadata": {},
   "outputs": [
    {
     "name": "stdout",
     "output_type": "stream",
     "text": [
      "<class 'function'>\n",
      "11\n"
     ]
    }
   ],
   "source": [
    "addition=lambda a,b:a+b\n",
    "print(type(addition))\n",
    "print(addition(5,6))"
   ]
  },
  {
   "cell_type": "code",
   "execution_count": 4,
   "metadata": {},
   "outputs": [
    {
     "data": {
      "text/plain": [
       "False"
      ]
     },
     "execution_count": 4,
     "metadata": {},
     "output_type": "execute_result"
    }
   ],
   "source": [
    "# def is_even(num):\n",
    "#     if num%2 == 0:\n",
    "#         return True\n",
    "    \n",
    "\n",
    "even1=lambda num:num%2==0\n",
    "even1(11)\n"
   ]
  },
  {
   "cell_type": "code",
   "execution_count": 29,
   "metadata": {},
   "outputs": [
    {
     "data": {
      "text/plain": [
       "39"
      ]
     },
     "execution_count": 29,
     "metadata": {},
     "output_type": "execute_result"
    }
   ],
   "source": [
    "addition1=lambda x,y,z:x+y+z\n",
    "addition1(12,13,14)\n"
   ]
  },
  {
   "cell_type": "code",
   "execution_count": 10,
   "metadata": {},
   "outputs": [
    {
     "name": "stdout",
     "output_type": "stream",
     "text": [
      "[1, 4, 9, 16]\n"
     ]
    }
   ],
   "source": [
    "list_num = [1,2,3,4]\n",
    "l = []\n",
    "\n",
    "for i in list_num:\n",
    "    l.append(square(i))\n",
    "\n",
    "print(l)"
   ]
  },
  {
   "cell_type": "code",
   "execution_count": 9,
   "metadata": {},
   "outputs": [
    {
     "data": {
      "text/plain": [
       "100"
      ]
     },
     "execution_count": 9,
     "metadata": {},
     "output_type": "execute_result"
    }
   ],
   "source": [
    "# The map() Function in Python\n",
    "# The map() function applies a given function to all items in an input list (or any other iterable) \n",
    "# returns a map object (an iterator). This is particularly useful for transforming data in a list comprehensively.\n",
    "\n",
    "def square(x):\n",
    "    return x*x\n",
    "\n",
    "square(10)\n"
   ]
  },
  {
   "cell_type": "code",
   "execution_count": null,
   "metadata": {},
   "outputs": [
    {
     "name": "stdout",
     "output_type": "stream",
     "text": [
      "[1, 4, 9, 16]\n"
     ]
    }
   ],
   "source": [
    "lst = [1,2,3,4]\n",
    "\n",
    "l = list(map(lambda x: x**2, lst))\n",
    "print(l)"
   ]
  },
  {
   "cell_type": "code",
   "execution_count": 35,
   "metadata": {},
   "outputs": [
    {
     "data": {
      "text/plain": [
       "True"
      ]
     },
     "execution_count": 35,
     "metadata": {},
     "output_type": "execute_result"
    }
   ],
   "source": [
    "# The filter() Function in Python\n",
    "# The filter() function constructs an iterator from elements of an iterable for which a function returns true. \n",
    "# It is used to filter out items from a list (or any other iterable) based on a condition.\n",
    "\n",
    "def even(num):\n",
    "    if num%2==0:\n",
    "        return True\n",
    "\n",
    "even(24)\n"
   ]
  },
  {
   "cell_type": "code",
   "execution_count": null,
   "metadata": {},
   "outputs": [
    {
     "data": {
      "text/plain": [
       "[2, 4, 6, 8, 10, 12]"
      ]
     },
     "execution_count": 93,
     "metadata": {},
     "output_type": "execute_result"
    }
   ],
   "source": [
    "lst=[1,2,3,4,5,6,7,8,9,10,11,12]\n",
    "\n",
    "list(filter(lambda x:x%2==0,lst))\n"
   ]
  },
  {
   "cell_type": "code",
   "execution_count": 37,
   "metadata": {},
   "outputs": [
    {
     "name": "stdout",
     "output_type": "stream",
     "text": [
      "[6, 7, 8, 9]\n"
     ]
    }
   ],
   "source": [
    "numbers=[1,2,3,4,5,6,7,8,9]\n",
    "greater_than_five=list(filter(lambda x:x>5,numbers))\n",
    "print(greater_than_five)\n"
   ]
  },
  {
   "cell_type": "code",
   "execution_count": 95,
   "metadata": {},
   "outputs": [
    {
     "name": "stdout",
     "output_type": "stream",
     "text": [
      "15\n",
      "99\n"
     ]
    }
   ],
   "source": [
    "# The reduce() function in Python is used to apply a function cumulatively to elements of an iterable, reducing it to a single value. \n",
    "\n",
    "from functools import reduce\n",
    "\n",
    "numbers = [1, 2, 3, 4, 5]\n",
    "\n",
    "result = reduce(lambda x, y: x + y, numbers)\n",
    "print(result) \n",
    "\n",
    "\n",
    "numbers = [10, 45, 2, 99, 23]\n",
    "\n",
    "max_value = reduce(lambda x, y: x if x > y else y, numbers)\n",
    "print(max_value)\n"
   ]
  },
  {
   "cell_type": "code",
   "execution_count": 23,
   "metadata": {},
   "outputs": [
    {
     "name": "stdout",
     "output_type": "stream",
     "text": [
      "[0.5, 2, 4, 10]\n"
     ]
    }
   ],
   "source": [
    "l =[10,2,0.5,4 ]\n",
    "l.sort()\n",
    "print(l)"
   ]
  },
  {
   "cell_type": "code",
   "execution_count": 76,
   "metadata": {},
   "outputs": [
    {
     "name": "stdout",
     "output_type": "stream",
     "text": [
      "Sending invitation to Rahul who is our Cousin.\n"
     ]
    }
   ],
   "source": [
    "# A Grand Indian Wedding  – Explained with Lambda Functions\n",
    "\n",
    "def invite_guest(name, relation):\n",
    "    return f\"Sending invitation to {name} who is our {relation}.\"\n",
    "\n",
    "print(invite_guest(\"Rahul\", \"Cousin\"))\n",
    "\n",
    "# Too much typing for each guest.\n",
    "# Not suitable for bulk invitations."
   ]
  },
  {
   "cell_type": "code",
   "execution_count": 77,
   "metadata": {},
   "outputs": [
    {
     "name": "stdout",
     "output_type": "stream",
     "text": [
      "Sending invitation to Priya who is our Aunt.\n"
     ]
    }
   ],
   "source": [
    "invite_guest = lambda name, relation: f\"Sending invitation to {name} who is our {relation}.\"\n",
    "\n",
    "print(invite_guest(\"Priya\", \"Aunt\"))\n",
    "\n",
    "# No extra function definitions needed.\n",
    "# Quick inline usage without clutter.\n"
   ]
  },
  {
   "cell_type": "code",
   "execution_count": 78,
   "metadata": {},
   "outputs": [
    {
     "name": "stdout",
     "output_type": "stream",
     "text": [
      "['Amit will get Paneer Butter Masala', 'Sneha will get Chicken Biryani', 'Ravi will get Paneer Butter Masala']\n"
     ]
    }
   ],
   "source": [
    "# 2. Allocating Food Based on Preferences\n",
    "\n",
    "guests = [(\"Amit\", \"Vegetarian\"), (\"Sneha\", \"Non-Vegetarian\"), (\"Ravi\", \"Vegetarian\")]\n",
    "\n",
    "food_allocation = list(map(lambda g: f\"{g[0]} will get { 'Paneer Butter Masala' if g[1] == 'Vegetarian' else 'Chicken Biryani'}\", guests))\n",
    "\n",
    "print(food_allocation)\n"
   ]
  },
  {
   "cell_type": "code",
   "execution_count": 79,
   "metadata": {},
   "outputs": [
    {
     "name": "stdout",
     "output_type": "stream",
     "text": [
      "[('Uncle Ramesh', 'VIP'), ('Grandfather Sharmaji', 'VIP')]\n"
     ]
    }
   ],
   "source": [
    "#  3. Selecting VIP Guests for Special Treatment\n",
    "\n",
    "guests = [\n",
    "    (\"Uncle Ramesh\", \"VIP\"),\n",
    "    (\"Friend Raj\", \"Regular\"),\n",
    "    (\"Grandfather Sharmaji\", \"VIP\"),\n",
    "    (\"Neighbor Manish\", \"Regular\")\n",
    "]\n",
    "\n",
    "vip_guests = list(filter(lambda g: g[1] == \"VIP\", guests))\n",
    "\n",
    "print(vip_guests)\n"
   ]
  },
  {
   "cell_type": "code",
   "execution_count": 80,
   "metadata": {},
   "outputs": [
    {
     "name": "stdout",
     "output_type": "stream",
     "text": [
      "Total Wedding Cost: ₹470000\n"
     ]
    }
   ],
   "source": [
    "# 4. Calculating Total Wedding Expenses\n",
    "\n",
    "from functools import reduce\n",
    "\n",
    "expenses = [50000, 200000, 150000, 70000]  # Venue, Catering, Decor, DJ\n",
    "\n",
    "total_cost = reduce(lambda x, y: x + y, expenses)\n",
    "\n",
    "print(f\"Total Wedding Cost: ₹{total_cost}\")\n"
   ]
  },
  {
   "cell_type": "code",
   "execution_count": null,
   "metadata": {},
   "outputs": [],
   "source": []
  },
  {
   "cell_type": "code",
   "execution_count": 24,
   "metadata": {},
   "outputs": [
    {
     "name": "stdout",
     "output_type": "stream",
     "text": [
      "Movie script saved successfully!\n"
     ]
    }
   ],
   "source": [
    "# File Operation\n",
    "\n",
    "# Writing a Bollywood Movie Script to a File\n",
    "\n",
    "script = \"\"\"Title: Baahubali 3\n",
    "Director: S. S. Rajamouli\n",
    "Hero: Prabhas\n",
    "Heroine: Anushka Shetty\n",
    "Plot: Amarendra Baahubali returns to reclaim his kingdom. ngagsfakjsdfga,kjh\n",
    "\"\"\"\n",
    "\n",
    "with open(\"baahubali_movie.txt\", \"w\") as file:\n",
    "    file.write(script)\n",
    "\n",
    "print(\"Movie script saved successfully!\")\n"
   ]
  },
  {
   "cell_type": "code",
   "execution_count": 25,
   "metadata": {},
   "outputs": [
    {
     "name": "stdout",
     "output_type": "stream",
     "text": [
      "Songs added to playlist!\n"
     ]
    }
   ],
   "source": [
    "# 2. Appending Songs to the Movie’s Playlist File\n",
    "\n",
    "songs = [\"1. Jai Jai Baahubali\\n\", \"2. Mahishmati Anthem\\n\", \"3. Shiva Tandava\\n\"]\n",
    "\n",
    "with open(\"baahubali_movie.txt\", \"a\") as file:\n",
    "    file.writelines(songs)\n",
    "\n",
    "print(\"Songs added to playlist!\")\n"
   ]
  },
  {
   "cell_type": "code",
   "execution_count": 26,
   "metadata": {},
   "outputs": [
    {
     "name": "stdout",
     "output_type": "stream",
     "text": [
      "Title: Baahubali 3\n",
      "Director: S. S. Rajamouli\n",
      "Hero: Prabhas\n",
      "Heroine: Anushka Shetty\n",
      "Plot: Amarendra Baahubali returns to reclaim his kingdom. ngagsfakjsdfga,kjh\n",
      "1. Jai Jai Baahubali\n",
      "2. Mahishmati Anthem\n",
      "3. Shiva Tandava\n",
      "\n",
      "\n",
      "mmdjbflajhdbadvvhadbanckajdbcljhabkjdnc;kjdbkj \n"
     ]
    }
   ],
   "source": [
    "with open('baahubali_movie.txt','r') as file:\n",
    "    content=file.read()\n",
    "    print(content) "
   ]
  },
  {
   "cell_type": "code",
   "execution_count": 86,
   "metadata": {},
   "outputs": [
    {
     "name": "stdout",
     "output_type": "stream",
     "text": [
      " Heroine: Anushka Shetty\n"
     ]
    }
   ],
   "source": [
    "with open(\"baahubali_movie.txt\", \"r\") as file:\n",
    "    for line in file:\n",
    "        if \"Heroine\" in line:\n",
    "            print(\" \" + line.strip())  # Remove extra spaces"
   ]
  },
  {
   "cell_type": "code",
   "execution_count": 48,
   "metadata": {},
   "outputs": [
    {
     "data": {
      "text/plain": [
       "4.0"
      ]
     },
     "execution_count": 48,
     "metadata": {},
     "output_type": "execute_result"
    }
   ],
   "source": [
    "# In Python, modules and packages help organize and reuse code. Here's a comprehensive guide on how to import them.\n",
    "\n",
    "import math\n",
    "math.sqrt(16)\n"
   ]
  },
  {
   "cell_type": "code",
   "execution_count": 10,
   "metadata": {},
   "outputs": [
    {
     "data": {
      "text/plain": [
       "array([1, 2, 3, 4])"
      ]
     },
     "execution_count": 10,
     "metadata": {},
     "output_type": "execute_result"
    }
   ],
   "source": [
    "import numpy as np\n",
    "np.array([1,2,3,4])\n"
   ]
  },
  {
   "cell_type": "code",
   "execution_count": 50,
   "metadata": {},
   "outputs": [
    {
     "name": "stdout",
     "output_type": "stream",
     "text": [
      "Collecting numpy\n",
      "  Downloading numpy-2.2.2-cp312-cp312-macosx_14_0_arm64.whl.metadata (62 kB)\n",
      "\u001b[2K     \u001b[90m━━━━━━━━━━━━━━━━━━━━━━━━━━━━━━━━━━━━━━━━\u001b[0m \u001b[32m62.0/62.0 kB\u001b[0m \u001b[31m2.3 MB/s\u001b[0m eta \u001b[36m0:00:00\u001b[0m\n",
      "\u001b[?25hDownloading numpy-2.2.2-cp312-cp312-macosx_14_0_arm64.whl (5.1 MB)\n",
      "\u001b[2K   \u001b[90m━━━━━━━━━━━━━━━━━━━━━━━━━━━━━━━━━━━━━━━━\u001b[0m \u001b[32m5.1/5.1 MB\u001b[0m \u001b[31m29.2 MB/s\u001b[0m eta \u001b[36m0:00:00\u001b[0ma \u001b[36m0:00:01\u001b[0m\n",
      "\u001b[?25hInstalling collected packages: numpy\n",
      "Successfully installed numpy-2.2.2\n",
      "\n",
      "\u001b[1m[\u001b[0m\u001b[34;49mnotice\u001b[0m\u001b[1;39;49m]\u001b[0m\u001b[39;49m A new release of pip is available: \u001b[0m\u001b[31;49m24.0\u001b[0m\u001b[39;49m -> \u001b[0m\u001b[32;49m25.0\u001b[0m\n",
      "\u001b[1m[\u001b[0m\u001b[34;49mnotice\u001b[0m\u001b[1;39;49m]\u001b[0m\u001b[39;49m To update, run: \u001b[0m\u001b[32;49mpip install --upgrade pip\u001b[0m\n"
     ]
    }
   ],
   "source": [
    "# !pip install numpy"
   ]
  },
  {
   "cell_type": "code",
   "execution_count": 2,
   "metadata": {},
   "outputs": [
    {
     "name": "stdout",
     "output_type": "stream",
     "text": [
      "Result of add(3,4): 7\n",
      "hello welcome to package\n"
     ]
    }
   ],
   "source": [
    "from package.sample import add,greet\n",
    "\n",
    "result = add(3,4)\n",
    "print(f\"Result of add(3,4): {result}\")\n",
    "\n",
    "greet()"
   ]
  },
  {
   "cell_type": "code",
   "execution_count": 27,
   "metadata": {},
   "outputs": [
    {
     "name": "stdout",
     "output_type": "stream",
     "text": [
      "2025-08-09 11:07:45.599405\n",
      "2025-08-08 11:07:45.599405\n"
     ]
    }
   ],
   "source": [
    "## datetime\n",
    "from datetime import datetime,timedelta\n",
    "\n",
    "now=datetime.now()\n",
    "print(now)\n",
    "\n",
    "yesterday=now-timedelta(days=1)\n",
    "\n",
    "print(yesterday)\n"
   ]
  },
  {
   "cell_type": "code",
   "execution_count": 28,
   "metadata": {},
   "outputs": [
    {
     "name": "stdout",
     "output_type": "stream",
     "text": [
      "1754752153.7910988\n",
      "1754752155.805419\n"
     ]
    }
   ],
   "source": [
    "import time\n",
    "print(time.time())\n",
    "time.sleep(2)\n",
    "print(time.time())\n"
   ]
  },
  {
   "cell_type": "code",
   "execution_count": 29,
   "metadata": {},
   "outputs": [
    {
     "name": "stdout",
     "output_type": "stream",
     "text": [
      "False\n",
      "True\n"
     ]
    }
   ],
   "source": [
    "import re\n",
    "\n",
    "def is_valid_email(email):\n",
    "    pattern = r'^[a-zA-Z0-9._%+-]+@[a-zA-Z0-9.-]+\\.[a-zA-Z]{2,}$'\n",
    "    return re.match(pattern, email) is not None\n",
    "\n",
    "print(is_valid_email('user@.com'))\n",
    "print(is_valid_email('user.name@domain.co'))\n"
   ]
  }
 ],
 "metadata": {
  "kernelspec": {
   "display_name": "agentbox",
   "language": "python",
   "name": "python3"
  },
  "language_info": {
   "codemirror_mode": {
    "name": "ipython",
    "version": 3
   },
   "file_extension": ".py",
   "mimetype": "text/x-python",
   "name": "python",
   "nbconvert_exporter": "python",
   "pygments_lexer": "ipython3",
   "version": "3.13.5"
  }
 },
 "nbformat": 4,
 "nbformat_minor": 2
}
