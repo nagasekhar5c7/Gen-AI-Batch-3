{
 "cells": [
  {
   "cell_type": "code",
   "execution_count": 72,
   "metadata": {},
   "outputs": [
    {
     "name": "stdout",
     "output_type": "stream",
     "text": [
      "<class '__main__.Car'>\n"
     ]
    }
   ],
   "source": [
    "# Classes and Objects\n",
    "\n",
    "# Object-Oriented Programming (OOP) is a programming paradigm that uses \"objects\" to design applications and computer programs. \n",
    "# OOP allows for modeling real-world scenarios using classes and objects. \n",
    "\n",
    "### A class is a blue print for creating objects. Variables,methods\n",
    "\n",
    "\n",
    "\n",
    "class Car:\n",
    "    pass\n",
    "\n",
    "audi=Car()\n",
    "bmw=Car()\n",
    "\n",
    "print(type(audi))\n",
    "\n",
    "\n",
    "# audi is an object of class Car and audi is referencing the memory location of the object\n"
   ]
  },
  {
   "cell_type": "code",
   "execution_count": null,
   "metadata": {},
   "outputs": [],
   "source": [
    "# Instance variable\n",
    "class Car:\n",
    "    def __init__(self, brand, model):\n",
    "        self.brand = brand  \n",
    "        self.model = model\n",
    "    \n",
    "    def display_info(self):        \n",
    "        print(f\"Brand: {self.brand}, Model: {self.model}\")\n",
    "\n",
    "car1 = Car(\"Toyota\", \"Camry\")\n",
    "car2 = Car(\"Honda\", \"Civic\")\n",
    "\n",
    "print(car1.brand)  # Output: Toyota\n",
    "print(car2.brand)  # Output: Honda\n"
   ]
  },
  {
   "cell_type": "code",
   "execution_count": 5,
   "metadata": {},
   "outputs": [
    {
     "name": "stdout",
     "output_type": "stream",
     "text": [
      "4\n",
      "4\n",
      "6\n"
     ]
    }
   ],
   "source": [
    " # static variable\n",
    "\n",
    "class Car:\n",
    "    wheels = 4  # static variable shared by all instances\n",
    "    def __init__(self, brand):\n",
    "        self.brand = brand  # Instance variable\n",
    "    \n",
    "\n",
    "car1 = Car(\"Toyota\")\n",
    "car2 = Car(\"Honda\")\n",
    "\n",
    "\n",
    "print(car1.wheels)  \n",
    "print(car2.wheels) \n",
    "\n",
    "Car.wheels=6\n",
    "print(car1.wheels)"
   ]
  },
  {
   "cell_type": "code",
   "execution_count": 74,
   "metadata": {},
   "outputs": [
    {
     "name": "stdout",
     "output_type": "stream",
     "text": [
      "Brand: Toyota, Model: Sedan\n"
     ]
    }
   ],
   "source": [
    "class Car:\n",
    "    def __init__(self, brand):\n",
    "        self.brand = brand  # Instance variable\n",
    "\n",
    "    def display_info(self):\n",
    "        model = \"Sedan\"  # Local variable (exists only inside this method)\n",
    "        print(f\"Brand: {self.brand}, Model: {model}\")  # Accessing local variable\n",
    "\n",
    "car1 = Car(\"Toyota\")\n",
    "car1.display_info() \n"
   ]
  },
  {
   "cell_type": "code",
   "execution_count": null,
   "metadata": {},
   "outputs": [],
   "source": [
    "def display(self):\n",
    "    return \"hello\""
   ]
  },
  {
   "cell_type": "code",
   "execution_count": 7,
   "metadata": {},
   "outputs": [
    {
     "name": "stdout",
     "output_type": "stream",
     "text": [
      "Car Brand: Toyota, Model: Camry\n"
     ]
    }
   ],
   "source": [
    "class Car:\n",
    "    def __init__(self, brand, model):\n",
    "        self.brand = brand  # Instance variable\n",
    "        self.model = model  # Instance variable\n",
    "\n",
    "    def display_info(self):  # Instance method\n",
    "        return f\"Car Brand: {self.brand}, Model: {self.model}\"\n",
    "\n",
    "car1 = Car(\"Toyota\", \"Camry\")\n",
    "print(car1.display_info())  # Output: Car Brand: Toyota, Model: Camry\n"
   ]
  },
  {
   "cell_type": "code",
   "execution_count": 8,
   "metadata": {},
   "outputs": [
    {
     "name": "stdout",
     "output_type": "stream",
     "text": [
      "4\n",
      "6\n"
     ]
    }
   ],
   "source": [
    "class Car:\n",
    "    wheels = 4  # static variable\n",
    "\n",
    "    def __init__(self, brand):\n",
    "        self.brand = brand  # Instance variable\n",
    "\n",
    "    @classmethod\n",
    "    def set_wheels(cls, new_wheels):  # Class method\n",
    "        cls.wheels = new_wheels  # Modifies class variable\n",
    "\n",
    "print(Car.wheels)  # Output: 4\n",
    "Car.set_wheels(6)  # Modifies the class-level variable\n",
    "print(Car.wheels)  # Output: 6\n"
   ]
  },
  {
   "cell_type": "code",
   "execution_count": 9,
   "metadata": {},
   "outputs": [
    {
     "name": "stdout",
     "output_type": "stream",
     "text": [
      "30\n"
     ]
    }
   ],
   "source": [
    "class MathOperations:\n",
    "    @staticmethod\n",
    "    def add(a, b):  # No `self` or `cls`\n",
    "        return a + b\n",
    "\n",
    "print(MathOperations.add(10, 20))  # Output: 30"
   ]
  },
  {
   "cell_type": "code",
   "execution_count": null,
   "metadata": {},
   "outputs": [],
   "source": [
    "# When to Use Which ? \n",
    "\n",
    "# Instance Methods → When working with instance-specific data.\n",
    "# Class Methods → When working with class-wide data.\n",
    "# Static Methods → When you just need a function inside a class that doesn't depend on instances or class variables.\n"
   ]
  },
  {
   "cell_type": "code",
   "execution_count": 2,
   "metadata": {},
   "outputs": [
    {
     "name": "stdout",
     "output_type": "stream",
     "text": [
      "5000\n"
     ]
    }
   ],
   "source": [
    "class BankAccount:\n",
    "    interest_rate = 0.05  # Class variable (shared by all accounts)\n",
    "\n",
    "    def __init__(self, owner, balance=0):\n",
    "        self.owner = owner  # Instance variable\n",
    "        self.balance = balance  # Instance variable\n",
    "\n",
    "    # Instance Method: Works with instance variables\n",
    "    def deposit(self, amount):\n",
    "        self.balance += amount\n",
    "        print(f\"{amount} is deposited. New balance is {self.balance}\")\n",
    "\n",
    "    # Instance Method: Works with instance variables\n",
    "    def withdraw(self, amount):\n",
    "        if amount > self.balance:\n",
    "            print(\"Insufficient funds!\")\n",
    "        else:\n",
    "            self.balance -= amount\n",
    "            print(f\"{amount} is withdrawn. New Balance is {self.balance}\")\n",
    "\n",
    "    # Instance Method: Retrieves instance balance\n",
    "    def get_balance(self):\n",
    "        return self.balance\n",
    "\n",
    "    # Class Method: Modifies the class-level interest rate\n",
    "    @classmethod\n",
    "    def set_interest_rate(cls, new_rate):\n",
    "        cls.interest_rate = new_rate\n",
    "        print(f\"New interest rate set to {cls.interest_rate * 100}%\")\n",
    "\n",
    "    # Static Method: General utility function not using instance/class variables\n",
    "    @staticmethod\n",
    "    def bank_info():\n",
    "        return \"Welcome to Soft Bank! Your trusted financial partner.\"\n",
    "\n",
    "# Create an account instance\n",
    "account = BankAccount(\"Krish\", 5000)\n",
    "\n",
    "# Using Instance Methods\n",
    "account.deposit(1000)\n",
    "account.withdraw(3000)\n",
    "print(f\"Current balance: {account.get_balance()}\")\n",
    "\n",
    "# Using Class Method\n",
    "BankAccount.set_interest_rate(0.07)\n",
    "\n",
    "# Using Static Method\n",
    "print(BankAccount.bank_info())\n"
   ]
  },
  {
   "cell_type": "code",
   "execution_count": 75,
   "metadata": {},
   "outputs": [
    {
     "name": "stdout",
     "output_type": "stream",
     "text": [
      "Honda Civic is starting.\n",
      "Engine with 180 HP started.\n"
     ]
    }
   ],
   "source": [
    "# HAS-A and IS-A Relationship in Object-Oriented Programming (OOP)\n",
    "\n",
    "class Engine:\n",
    "    def __init__(self, horsepower):\n",
    "        self.horsepower = horsepower\n",
    "\n",
    "    def start(self):\n",
    "        print(f\"Engine with {self.horsepower} HP started.\")\n",
    "\n",
    "class Car:\n",
    "    def __init__(self, brand, model, horsepower):\n",
    "        self.brand = brand\n",
    "        self.model = model\n",
    "        self.engine = Engine(horsepower)  # HAS-A relationship (Composition)\n",
    "\n",
    "    def start_car(self):\n",
    "        print(f\"{self.brand} {self.model} is starting.\")\n",
    "        self.engine.start()  # Calling method from Engine class\n",
    "\n",
    "# Creating an object of Car\n",
    "my_car = Car(\"Honda\", \"Civic\", 180)\n",
    "my_car.start_car()"
   ]
  },
  {
   "cell_type": "code",
   "execution_count": 11,
   "metadata": {},
   "outputs": [
    {
     "name": "stdout",
     "output_type": "stream",
     "text": [
      "Toyota\n",
      "This vehicle is moving.\n",
      "Car is honking!\n"
     ]
    }
   ],
   "source": [
    "# Inheritance In Python\n",
    "# Inheritance is a fundamental concept that allows a class to inherit attributes and methods from another class. \n",
    "\n",
    "class Vehicle:  # Parent class\n",
    "    def __init__(self, brand):\n",
    "        self.brand = brand\n",
    "\n",
    "    def move(self):\n",
    "        print(\"This vehicle is moving.\")\n",
    "\n",
    "class Car(Vehicle):  # Car IS-A Vehicle (Inheritance)\n",
    "    def __init__(self, brand, model):\n",
    "        super().__init__(brand)  # Inheriting from Vehicle\n",
    "        self.model = model\n",
    "\n",
    "    def honk(self):\n",
    "        print(\"Car is honking!\")\n",
    "\n",
    "# Creating an object of Car\n",
    "my_car = Car(\"Toyota\", \"Camry\")\n",
    "print(my_car.brand)  # Output: Toyota (Inherited from Vehicle)\n",
    "my_car.move()        # Output: This vehicle is moving. (Inherited method)\n",
    "my_car.honk()        # Output: Car is honking! (Specific to Car)"
   ]
  },
  {
   "cell_type": "code",
   "execution_count": 12,
   "metadata": {},
   "outputs": [
    {
     "name": "stdout",
     "output_type": "stream",
     "text": [
      "This is the Parent class.\n",
      "This is the Child class.\n"
     ]
    }
   ],
   "source": [
    "# single inheritance\n",
    "\n",
    "class Parent:\n",
    "    def show(self):\n",
    "        print(\"This is the Parent class.\")\n",
    "\n",
    "class Child(Parent):  # Single Inheritance\n",
    "    def display(self):\n",
    "        print(\"This is the Child class.\")\n",
    "\n",
    "obj = Child()\n",
    "obj.show()    # inherited from Parent class\n",
    "obj.display() # Defined in Child class\n"
   ]
  },
  {
   "cell_type": "code",
   "execution_count": 13,
   "metadata": {},
   "outputs": [
    {
     "name": "stdout",
     "output_type": "stream",
     "text": [
      "This is Parent1 class.\n",
      "This is Parent2 class.\n",
      "This is the Child class.\n"
     ]
    }
   ],
   "source": [
    "# multiple inheritance\n",
    "\n",
    "class Parent1:\n",
    "    def show1(self):\n",
    "        print(\"This is Parent1 class.\")\n",
    "\n",
    "class Parent2:\n",
    "    def show2(self):\n",
    "        print(\"This is Parent2 class.\")\n",
    "\n",
    "class Child(Parent1, Parent2):  # Multiple Inheritance\n",
    "    def display(self):\n",
    "        print(\"This is the Child class.\")\n",
    "\n",
    "obj = Child()\n",
    "obj.show1()  # From Parent1\n",
    "obj.show2()  # From Parent2\n",
    "obj.display() # Defined in Child class\n",
    "\n",
    "\n",
    "#Note: If multiple parent classes have a method with the same name, Python follows the Method Resolution Order (MRO) (left to right).\n",
    "\n",
    "\n"
   ]
  },
  {
   "cell_type": "code",
   "execution_count": 14,
   "metadata": {},
   "outputs": [
    {
     "name": "stdout",
     "output_type": "stream",
     "text": [
      "This is GrandParent class.\n",
      "This is Parent class.\n",
      "This is Child class.\n"
     ]
    }
   ],
   "source": [
    "# Multilevel Inheritance\n",
    "\n",
    "class GrandParent:\n",
    "    def show_grandparent(self):\n",
    "        print(\"This is GrandParent class.\")\n",
    "\n",
    "class Parent(GrandParent):\n",
    "    def show_parent(self):\n",
    "        print(\"This is Parent class.\")\n",
    "\n",
    "class Child(Parent):  # Multilevel Inheritance\n",
    "    def display(self):\n",
    "        print(\"This is Child class.\")\n",
    "\n",
    "obj = Child()\n",
    "obj.show_grandparent()  # Inherited from GrandParent\n",
    "obj.show_parent()       # Inherited from Parent\n",
    "obj.display()           # Defined in Child class\n"
   ]
  },
  {
   "cell_type": "code",
   "execution_count": 15,
   "metadata": {},
   "outputs": [
    {
     "name": "stdout",
     "output_type": "stream",
     "text": [
      "This is Parent class.\n",
      "This is Child1 class.\n",
      "This is Parent class.\n",
      "This is Child2 class.\n"
     ]
    }
   ],
   "source": [
    "# Hierarchical Inheritance\n",
    "\n",
    "class Parent:\n",
    "    def show(self):\n",
    "        print(\"This is Parent class.\")\n",
    "\n",
    "class Child1(Parent):  # Inheriting Parent\n",
    "    def display1(self):\n",
    "        print(\"This is Child1 class.\")\n",
    "\n",
    "class Child2(Parent):  # Inheriting Parent\n",
    "    def display2(self):\n",
    "        print(\"This is Child2 class.\")\n",
    "\n",
    "obj1 = Child1()\n",
    "obj1.show()    # Inherited from Parent\n",
    "obj1.display1()\n",
    "\n",
    "obj2 = Child2()\n",
    "obj2.show()    # Inherited from Parent\n",
    "obj2.display2()\n"
   ]
  },
  {
   "cell_type": "code",
   "execution_count": 16,
   "metadata": {},
   "outputs": [
    {
     "name": "stdout",
     "output_type": "stream",
     "text": [
      "This is Parent class.\n",
      "This is Child1 class.\n",
      "This is Child2 class.\n",
      "This is GrandChild class.\n"
     ]
    }
   ],
   "source": [
    "# Hybrid Inheritance\n",
    "\n",
    "class Parent:\n",
    "    def show(self):\n",
    "        print(\"This is Parent class.\")\n",
    "\n",
    "class Child1(Parent):  # Single Inheritance\n",
    "    def display1(self):\n",
    "        print(\"This is Child1 class.\")\n",
    "\n",
    "class Child2(Parent):  # Single Inheritance\n",
    "    def display2(self):\n",
    "        print(\"This is Child2 class.\")\n",
    "\n",
    "class GrandChild(Child1, Child2):  # Multiple Inheritance\n",
    "    def display3(self):\n",
    "        print(\"This is GrandChild class.\")\n",
    "\n",
    "obj = GrandChild()\n",
    "obj.show()     # Inherited from Parent\n",
    "obj.display1() # Inherited from Child1\n",
    "obj.display2() # Inherited from Child2\n",
    "obj.display3() # Defined in GrandChild class\n"
   ]
  },
  {
   "cell_type": "code",
   "execution_count": 17,
   "metadata": {},
   "outputs": [
    {
     "name": "stdout",
     "output_type": "stream",
     "text": [
      "This is the Parent class.\n",
      "This is the Child class.\n"
     ]
    }
   ],
   "source": [
    "# super() Keyword in Python\n",
    "\n",
    "class Parent:\n",
    "    def show(self):\n",
    "        print(\"This is the Parent class.\")\n",
    "\n",
    "class Child(Parent):\n",
    "    def show(self):\n",
    "        super().show()  # Calling Parent's method\n",
    "        print(\"This is the Child class.\")\n",
    "\n",
    "obj = Child()\n",
    "obj.show()\n"
   ]
  },
  {
   "cell_type": "code",
   "execution_count": null,
   "metadata": {},
   "outputs": [
    {
     "name": "stdout",
     "output_type": "stream",
     "text": [
      "This is the second show method with parameter: John\n"
     ]
    },
    {
     "ename": "TypeError",
     "evalue": "Test.show() missing 1 required positional argument: 'name'",
     "output_type": "error",
     "traceback": [
      "\u001b[0;31m---------------------------------------------------------------------------\u001b[0m",
      "\u001b[0;31mTypeError\u001b[0m                                 Traceback (most recent call last)",
      "Cell \u001b[0;32mIn[21], line 22\u001b[0m\n\u001b[1;32m     20\u001b[0m obj \u001b[38;5;241m=\u001b[39m Test()\n\u001b[1;32m     21\u001b[0m obj\u001b[38;5;241m.\u001b[39mshow(\u001b[38;5;124m'\u001b[39m\u001b[38;5;124mJohn\u001b[39m\u001b[38;5;124m'\u001b[39m) \n\u001b[0;32m---> 22\u001b[0m \u001b[43mobj\u001b[49m\u001b[38;5;241;43m.\u001b[39;49m\u001b[43mshow\u001b[49m\u001b[43m(\u001b[49m\u001b[43m)\u001b[49m\n",
      "\u001b[0;31mTypeError\u001b[0m: Test.show() missing 1 required positional argument: 'name'"
     ]
    }
   ],
   "source": [
    "# Polymorphism\n",
    "# Polymorphism is a core concept that allows objects of different classes to be treated as objects of a common superclass. \n",
    "# It provides a way to perform a single action in different forms. Polymorphism is typically achieved through method overriding and interfaces\n",
    "\n",
    "# \"If it looks like a duck, swims like a duck, and quacks like a duck, then it must be a duck.\"\n",
    "\n",
    "\n",
    "# Method Overloading in Python \n",
    "\n",
    "# Method Overloading allows multiple methods with the same name but different parameters.\n",
    "#  However, Python does not support true method overloading like Java/C++. \n",
    "\n",
    "class Test:\n",
    "    def show(self):\n",
    "        print(\"This is the first show method.\")\n",
    "\n",
    "    def show(self, name):  # Overrides the first method\n",
    "        print(f\"This is the second show method with parameter: {name}\")\n",
    "\n",
    "obj = Test()\n",
    "obj.show('John') \n",
    "obj.show() \n"
   ]
  },
  {
   "cell_type": "code",
   "execution_count": 22,
   "metadata": {},
   "outputs": [
    {
     "name": "stdout",
     "output_type": "stream",
     "text": [
      "15\n",
      "65\n"
     ]
    }
   ],
   "source": [
    "# Instead, it uses default arguments or *args to achieve similar functionality.\n",
    "\n",
    "\n",
    "class MathOperations:\n",
    "    def add(self, *args): \n",
    "        return sum(args)\n",
    "\n",
    "math_obj = MathOperations()\n",
    "print(math_obj.add(5, 10))         \n",
    "print(math_obj.add(5, 10, 20, 30))\n"
   ]
  },
  {
   "cell_type": "code",
   "execution_count": 23,
   "metadata": {},
   "outputs": [
    {
     "ename": "TypeError",
     "evalue": "Test.__init__() missing 1 required positional argument: 'name'",
     "output_type": "error",
     "traceback": [
      "\u001b[0;31m---------------------------------------------------------------------------\u001b[0m",
      "\u001b[0;31mTypeError\u001b[0m                                 Traceback (most recent call last)",
      "Cell \u001b[0;32mIn[23], line 8\u001b[0m\n\u001b[1;32m      5\u001b[0m     \u001b[38;5;28;01mdef\u001b[39;00m\u001b[38;5;250m \u001b[39m\u001b[38;5;21m__init__\u001b[39m(\u001b[38;5;28mself\u001b[39m, name):  \u001b[38;5;66;03m# This overrides the previous `__init__`\u001b[39;00m\n\u001b[1;32m      6\u001b[0m         \u001b[38;5;28mprint\u001b[39m(\u001b[38;5;124mf\u001b[39m\u001b[38;5;124m\"\u001b[39m\u001b[38;5;124mConstructor with parameter: \u001b[39m\u001b[38;5;132;01m{\u001b[39;00mname\u001b[38;5;132;01m}\u001b[39;00m\u001b[38;5;124m\"\u001b[39m)\n\u001b[0;32m----> 8\u001b[0m obj \u001b[38;5;241m=\u001b[39m \u001b[43mTest\u001b[49m\u001b[43m(\u001b[49m\u001b[43m)\u001b[49m  \u001b[38;5;66;03m# Error: Missing required argument 'name'\u001b[39;00m\n",
      "\u001b[0;31mTypeError\u001b[0m: Test.__init__() missing 1 required positional argument: 'name'"
     ]
    }
   ],
   "source": [
    "class Test:\n",
    "    def __init__(self):\n",
    "        print(\"Default constructor\")\n",
    "\n",
    "    def __init__(self, name):  # This overrides the previous `__init__`\n",
    "        print(f\"Constructor with parameter: {name}\")\n",
    "\n",
    "obj = Test()  # Error: Missing required argument 'name'\n"
   ]
  },
  {
   "cell_type": "code",
   "execution_count": 24,
   "metadata": {},
   "outputs": [
    {
     "name": "stdout",
     "output_type": "stream",
     "text": [
      "Constructor with no arguments\n",
      "Constructor with one argument: Python\n",
      "Constructor with two arguments: Python, 101\n",
      "Constructor with too many arguments\n"
     ]
    }
   ],
   "source": [
    "class Test:\n",
    "    def __init__(self, *args):\n",
    "        if len(args) == 0:\n",
    "            print(\"Constructor with no arguments\")\n",
    "        elif len(args) == 1:\n",
    "            print(f\"Constructor with one argument: {args[0]}\")\n",
    "        elif len(args) == 2:\n",
    "            print(f\"Constructor with two arguments: {args[0]}, {args[1]}\")\n",
    "        else:\n",
    "            print(\"Constructor with too many arguments\")\n",
    "\n",
    "obj1 = Test()                # No arguments\n",
    "obj2 = Test(\"Python\")        #  One argument\n",
    "obj3 = Test(\"Python\", 101)   #  Two arguments\n",
    "obj4 = Test(\"Too\", \"Many\", \"Args\")  # Too many arguments\n"
   ]
  },
  {
   "cell_type": "code",
   "execution_count": 25,
   "metadata": {},
   "outputs": [
    {
     "name": "stdout",
     "output_type": "stream",
     "text": [
      "This is the child class.\n"
     ]
    }
   ],
   "source": [
    "# Method Overriding\n",
    "\n",
    "class Parent:\n",
    "    def show(self):\n",
    "        print(\"This is the parent class.\")  \n",
    "\n",
    "class Child(Parent):        \n",
    "\n",
    "    def show(self):\n",
    "        print(\"This is the child class.\")\n",
    "\n",
    "obj = Child()   \n",
    "obj.show()"
   ]
  },
  {
   "cell_type": "code",
   "execution_count": 28,
   "metadata": {},
   "outputs": [
    {
     "name": "stdout",
     "output_type": "stream",
     "text": [
      "Parent constructor called. Name: Parent\n",
      "Parent constructor called. Name: John\n",
      "Child constructor called. Age: 25\n"
     ]
    }
   ],
   "source": [
    "# Constructor Overriding\n",
    "\n",
    "\n",
    "class Parent:\n",
    "    def __init__(self, name = \"Parent\"):\n",
    "        self.name = name\n",
    "        print(f\"Parent constructor called. Name: {self.name}\")\n",
    "\n",
    "class Child(Parent):\n",
    "    def __init__(self, name, age):\n",
    "        super().__init__(name)  # Calling Parent's constructor\n",
    "        self.age = age\n",
    "        print(f\"Child constructor called. Age: {self.age}\")\n",
    "\n",
    "o = Parent()\n",
    "obj = Child(\"John\", 25)\n"
   ]
  },
  {
   "cell_type": "code",
   "execution_count": 29,
   "metadata": {},
   "outputs": [
    {
     "name": "stdout",
     "output_type": "stream",
     "text": [
      "Car enginer started\n",
      "The vehicle is used for driving\n"
     ]
    }
   ],
   "source": [
    "# Abstraction\n",
    "# Abstraction is the concept of hiding the complex implementation details and showing only the necessary features of an object. \n",
    "# This helps in reducing programming complexity and effort.\n",
    "\n",
    "from abc import ABC,abstractmethod\n",
    "\n",
    "class Vehicle(ABC):\n",
    "    def drive(self):\n",
    "        print(\"The vehicle is used for driving\")\n",
    "\n",
    "    @abstractmethod\n",
    "    def start_engine(self):\n",
    "        pass\n",
    "\n",
    "class Car(Vehicle):\n",
    "    def start_engine(self):\n",
    "        print(\"Car enginer started\")\n",
    "\n",
    "def operate_vehicle(vehicle):\n",
    "    vehicle.start_engine()\n",
    "    vehicle.drive()\n",
    "\n",
    "car=Car()\n",
    "operate_vehicle(car)\n"
   ]
  },
  {
   "cell_type": "code",
   "execution_count": 30,
   "metadata": {},
   "outputs": [
    {
     "name": "stdout",
     "output_type": "stream",
     "text": [
      "John\n",
      "Savings\n",
      "5000\n"
     ]
    }
   ],
   "source": [
    "# Encapsulation\n",
    "# Encapsulation is an OOP principle that restricts direct access to class variables and methods, ensuring data security and controlled access.\n",
    "\n",
    "\n",
    "# Encapsulation is achieved using access modifiers:\n",
    "\n",
    "# Public (self.variable) → Accessible from anywhere.\n",
    "# Protected (self._variable) → Suggested for internal use but still accessible.\n",
    "# Private (self.__variable) → Cannot be accessed directly outside the class.\n",
    "\n",
    "\n",
    "class BankAccount:\n",
    "    def __init__(self, owner, balance):\n",
    "        self.owner = owner  # Public variable\n",
    "        self._account_type = \"Savings\"  # Protected variable\n",
    "        self.__balance = balance  # Private variable\n",
    "\n",
    "    def deposit(self, amount):\n",
    "        if amount > 0:\n",
    "            self.__balance += amount\n",
    "            print(f\"Deposited {amount}. New balance: {self.__balance}\")\n",
    "        else:\n",
    "            print(\"Invalid deposit amount!\")\n",
    "\n",
    "    def get_balance(self):\n",
    "        return self.__balance  # Controlled access to private variable\n",
    "\n",
    "# Creating an object\n",
    "account = BankAccount(\"John\", 5000)\n",
    "\n",
    "# Accessing public variable\n",
    "print(account.owner)  # Output: John\n",
    "\n",
    "# Accessing protected variable (allowed but not recommended)\n",
    "print(account._account_type)  # Output: Savings\n",
    "\n",
    "# Trying to access private variable (Error)\n",
    "# print(account.__balance)  # AttributeError\n",
    "\n",
    "# Using method to access private variable\n",
    "print(account.get_balance())  # Output: 5000\n"
   ]
  },
  {
   "cell_type": "code",
   "execution_count": null,
   "metadata": {},
   "outputs": [],
   "source": []
  }
 ],
 "metadata": {
  "kernelspec": {
   "display_name": "py313",
   "language": "python",
   "name": "python3"
  },
  "language_info": {
   "codemirror_mode": {
    "name": "ipython",
    "version": 3
   },
   "file_extension": ".py",
   "mimetype": "text/x-python",
   "name": "python",
   "nbconvert_exporter": "python",
   "pygments_lexer": "ipython3",
   "version": "3.13.2"
  }
 },
 "nbformat": 4,
 "nbformat_minor": 2
}
