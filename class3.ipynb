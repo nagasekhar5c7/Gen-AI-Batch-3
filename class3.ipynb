{
 "cells": [
  {
   "cell_type": "code",
   "execution_count": 4,
   "metadata": {},
   "outputs": [
    {
     "name": "stdout",
     "output_type": "stream",
     "text": [
      "[5, 5, 6, 4, 13]\n",
      "[5, 5, 6, 4, 13]\n"
     ]
    }
   ],
   "source": [
    "# l =[]\n",
    "\n",
    "# # for i in range(1,11):\n",
    "# #     if i%2==0:\n",
    "# #         l.append(i)\n",
    "# #     else:\n",
    "# #         l.append(i*i)\n",
    "\n",
    "# # print(l)\n",
    "\n",
    "# for i in range(1,11):\n",
    "#     l.append(i*i)\n",
    "# print(l)\n",
    "\n",
    "# l = [1,4,9,16,25,36,49,64,81,100]\n",
    "\n",
    "\n",
    "\n",
    "# # List comprehension:\n",
    "\n",
    "\n",
    "# [operation for item in iterable]\n",
    "\n",
    "\n",
    "# [i*i for i in range(1,11)]\n",
    "\n",
    "# range(start,stop,step)\n",
    "\n",
    "# l = [] # list\n",
    "# for iter in range(10):\n",
    "#     # print(iter**2)\n",
    "#     l.append(iter**2) # appending the result to the list\n",
    "# print(l)    \n",
    "\n",
    "\n",
    "words = [\"hello\", \"world\", \"python\", \"list\", \"comprehension\"]\n",
    "\n",
    "len_i = []\n",
    "for i in range(len(words)):\n",
    "    len_i.append(len(words[i]))\n",
    "\n",
    "print(len_i)\n",
    "\n",
    "\n",
    "len_i = [ len(words[i])   for i in range(len(words))      ]\n",
    "\n",
    "print(len_i)"
   ]
  },
  {
   "cell_type": "code",
   "execution_count": null,
   "metadata": {},
   "outputs": [
    {
     "name": "stdout",
     "output_type": "stream",
     "text": [
      "[0, 1, 4, 9, 16, 25, 36, 49, 64, 81]\n"
     ]
    }
   ],
   "source": [
    "list = [iter**2 for iter in range(10)]\n",
    "print(list)"
   ]
  },
  {
   "cell_type": "code",
   "execution_count": 8,
   "metadata": {},
   "outputs": [
    {
     "name": "stdout",
     "output_type": "stream",
     "text": [
      "[5, 5, 6, 4, 13]\n",
      "[5, 5, 6, 4, 13]\n"
     ]
    }
   ],
   "source": [
    "## List Comprehension with function calls\n",
    "words = [\"hello\", \"world\", \"python\", \"list\", \"comprehension\"]\n",
    "\n",
    "len_list = []\n",
    "for i in words:\n",
    "    len_list.append(len(i))\n",
    "print(len_list)\n",
    "    \n",
    "\n",
    "lengths = [len(word) for word in words]\n",
    "print(lengths)  # Output: [5, 5, 6, 4, 13]\n"
   ]
  },
  {
   "cell_type": "code",
   "execution_count": 9,
   "metadata": {},
   "outputs": [
    {
     "name": "stdout",
     "output_type": "stream",
     "text": [
      "[1, 2, 3, 4, 5, 6, 7]\n",
      "[1, 2, 3, 4, 5, 6, 7]\n"
     ]
    }
   ],
   "source": [
    "nested = [[1, 2], [3, 4], [5, 6,7]]\n",
    "\n",
    "flat_list = []\n",
    "for item in nested: # outer\n",
    "    for i in item:  # inner\n",
    "        flat_list.append(i)\n",
    "print(flat_list)\n",
    "\n",
    "\n",
    "flat = [item for sublist in nested for item in sublist]\n",
    "print(flat) \n"
   ]
  },
  {
   "cell_type": "code",
   "execution_count": 8,
   "metadata": {},
   "outputs": [
    {
     "name": "stdout",
     "output_type": "stream",
     "text": [
      "()\n",
      "<class 'tuple'>\n"
     ]
    }
   ],
   "source": [
    "# Tuples\n",
    "# Tuples are ordered collections of items that are immutable. They are similar to lists, but their immutability makes them different.\n",
    "\n",
    "empty_tuple=()\n",
    "print(empty_tuple)\n",
    "print(type(empty_tuple))"
   ]
  },
  {
   "cell_type": "code",
   "execution_count": 5,
   "metadata": {},
   "outputs": [
    {
     "data": {
      "text/plain": [
       "(1, 2, 3, 4, 5, 6)"
      ]
     },
     "execution_count": 5,
     "metadata": {},
     "output_type": "execute_result"
    }
   ],
   "source": [
    "numbers=tuple([1,2,3,4,5,6])\n",
    "numbers"
   ]
  },
  {
   "cell_type": "code",
   "execution_count": 7,
   "metadata": {},
   "outputs": [
    {
     "name": "stdout",
     "output_type": "stream",
     "text": [
      "(1, 2, 3, 4, 5, 6)\n"
     ]
    },
    {
     "ename": "TypeError",
     "evalue": "'tuple' object does not support item assignment",
     "output_type": "error",
     "traceback": [
      "\u001b[31m---------------------------------------------------------------------------\u001b[39m",
      "\u001b[31mTypeError\u001b[39m                                 Traceback (most recent call last)",
      "\u001b[36mCell\u001b[39m\u001b[36m \u001b[39m\u001b[32mIn[7]\u001b[39m\u001b[32m, line 3\u001b[39m\n\u001b[32m      1\u001b[39m \u001b[38;5;28mprint\u001b[39m(numbers)\n\u001b[32m----> \u001b[39m\u001b[32m3\u001b[39m \u001b[43mnumbers\u001b[49m\u001b[43m[\u001b[49m\u001b[32;43m2\u001b[39;49m\u001b[43m]\u001b[49m = \u001b[32m30\u001b[39m \n\u001b[32m      4\u001b[39m \u001b[38;5;28mprint\u001b[39m(numbers)\n",
      "\u001b[31mTypeError\u001b[39m: 'tuple' object does not support item assignment"
     ]
    }
   ],
   "source": [
    "print(numbers)\n",
    "\n",
    "# numbers[2] = 30 \n",
    "print(numbers)"
   ]
  },
  {
   "cell_type": "code",
   "execution_count": 9,
   "metadata": {},
   "outputs": [
    {
     "name": "stdout",
     "output_type": "stream",
     "text": [
      "39\n",
      "16\n"
     ]
    }
   ],
   "source": [
    "numbers =  (10, 20, 39, 49, 95, 16)\n",
    "\n",
    "print(numbers[2])\n",
    "print(numbers[-1])\n"
   ]
  },
  {
   "cell_type": "code",
   "execution_count": 10,
   "metadata": {},
   "outputs": [
    {
     "data": {
      "text/plain": [
       "(10, 20, 39, 49)"
      ]
     },
     "execution_count": 10,
     "metadata": {},
     "output_type": "execute_result"
    }
   ],
   "source": [
    "numbers[0:4]"
   ]
  },
  {
   "cell_type": "code",
   "execution_count": 7,
   "metadata": {},
   "outputs": [],
   "source": [
    "t = (10,20,30,40)"
   ]
  },
  {
   "cell_type": "code",
   "execution_count": 11,
   "metadata": {},
   "outputs": [
    {
     "name": "stdout",
     "output_type": "stream",
     "text": [
      "20\n"
     ]
    },
    {
     "ename": "TypeError",
     "evalue": "'tuple' object does not support item assignment",
     "output_type": "error",
     "traceback": [
      "\u001b[0;31m---------------------------------------------------------------------------\u001b[0m",
      "\u001b[0;31mTypeError\u001b[0m                                 Traceback (most recent call last)",
      "Cell \u001b[0;32mIn[11], line 3\u001b[0m\n\u001b[1;32m      1\u001b[0m \u001b[38;5;28mprint\u001b[39m(t[\u001b[38;5;241m1\u001b[39m])\n\u001b[0;32m----> 3\u001b[0m t[\u001b[38;5;241m1\u001b[39m] \u001b[38;5;241m=\u001b[39m \u001b[38;5;241m80\u001b[39m\n",
      "\u001b[0;31mTypeError\u001b[0m: 'tuple' object does not support item assignment"
     ]
    }
   ],
   "source": [
    "print(t[1])\n",
    "\n",
    "t[1] = 80"
   ]
  },
  {
   "cell_type": "code",
   "execution_count": 12,
   "metadata": {},
   "outputs": [
    {
     "name": "stdout",
     "output_type": "stream",
     "text": [
      "(10, 20, 39, 49, 95, 16, 7, 8, 7, 8)\n"
     ]
    }
   ],
   "source": [
    "mixed_tuple=(7,8)\n",
    "numbers = numbers + mixed_tuple\n",
    "print(numbers)\n",
    "#print(concatenation_tuple)\n"
   ]
  },
  {
   "cell_type": "code",
   "execution_count": 13,
   "metadata": {},
   "outputs": [
    {
     "data": {
      "text/plain": [
       "(7, 8, 7, 8, 7, 8)"
      ]
     },
     "execution_count": 13,
     "metadata": {},
     "output_type": "execute_result"
    }
   ],
   "source": [
    "mixed_tuple * 3\n"
   ]
  },
  {
   "cell_type": "code",
   "execution_count": 14,
   "metadata": {},
   "outputs": [
    {
     "data": {
      "text/plain": [
       "(7, 8)"
      ]
     },
     "execution_count": 14,
     "metadata": {},
     "output_type": "execute_result"
    }
   ],
   "source": [
    "mixed_tuple"
   ]
  },
  {
   "cell_type": "code",
   "execution_count": 14,
   "metadata": {},
   "outputs": [
    {
     "name": "stdout",
     "output_type": "stream",
     "text": [
      "1\n",
      "2\n"
     ]
    }
   ],
   "source": [
    "## Tuple Methods\n",
    "print(numbers.count(1))\n",
    "print(numbers.index(3))\n"
   ]
  },
  {
   "cell_type": "code",
   "execution_count": 16,
   "metadata": {},
   "outputs": [
    {
     "name": "stdout",
     "output_type": "stream",
     "text": [
      "(1, 2, 3)\n",
      "c\n"
     ]
    }
   ],
   "source": [
    "nested_tuple = ((1, 2, 3), (\"a\", \"b\", \"c\"), (True, False))\n",
    "\n",
    "## access the elements inside a tuple\n",
    "print(nested_tuple[0])\n",
    "print(nested_tuple[1][2])\n"
   ]
  },
  {
   "cell_type": "code",
   "execution_count": 17,
   "metadata": {},
   "outputs": [
    {
     "data": {
      "text/plain": [
       "((1, 2, 3), ('a', 'b', 'c'), (True, False))"
      ]
     },
     "execution_count": 17,
     "metadata": {},
     "output_type": "execute_result"
    }
   ],
   "source": [
    "nested_tuple[:]"
   ]
  },
  {
   "cell_type": "code",
   "execution_count": 16,
   "metadata": {},
   "outputs": [
    {
     "name": "stdout",
     "output_type": "stream",
     "text": [
      "1 2 3 \n",
      "a b c \n",
      "True False \n"
     ]
    }
   ],
   "source": [
    "## iterating over nested tuples\n",
    "for sub_tuple in nested_tuple:\n",
    "    for item in sub_tuple:\n",
    "        print(item,end=\" \")\n",
    "    print()"
   ]
  },
  {
   "cell_type": "code",
   "execution_count": 27,
   "metadata": {},
   "outputs": [
    {
     "name": "stdout",
     "output_type": "stream",
     "text": [
      "Redirecting request to: 192.168.1.3:8080\n"
     ]
    }
   ],
   "source": [
    "# Scenario: Load Balancer in a Distributed System\n",
    "# You’re building a load balancer for a distributed system where multiple servers process incoming user requests. The load balancer needs to:\n",
    "\n",
    "# Distribute requests efficiently across servers based on their load.\n",
    "# Track the server state (e.g., IP address, server health, and current load).\n",
    "# Ensure data consistency when multiple components read or update server information.\n",
    "# Tuples can be used here to maintain immutable server metadata while ensuring efficient operations.\n",
    "\n",
    "\n",
    "# Step 1: Represent Server Metadata with Tuples\n",
    "# Each server's metadata is stored as a tuple because:\n",
    "\n",
    "# Metadata (IP, port, etc.) is fixed and shouldn't be changed accidentally.\n",
    "# Tuples are hashable, allowing them to be used in sets or dictionaries for efficient lookups.\n",
    "\n",
    "# Server metadata: (IP, Port, Current Load)\n",
    "servers = [\n",
    "    (\"192.168.1.1\", 8080, 10),  # Server 1\n",
    "    (\"192.168.1.2\", 8080, 20),  # Server 2\n",
    "    (\"192.168.1.3\", 8080, 5),   # Server 3\n",
    "]\n",
    "\n",
    "# Step 2: Load Balancer Logic\n",
    "# The load balancer picks the server with the least load for incoming requests. Tuples ensure that metadata remains consistent and immutable.\n",
    "\n",
    "def get_least_loaded_server(servers):\n",
    "    # Find the server with the lowest load\n",
    "    return min(servers, key=lambda x: x[2])  # Sort by load (x[2])\n",
    "\n",
    "# Example Usage\n",
    "selected_server = get_least_loaded_server(servers)\n",
    "print(f\"Redirecting request to: {selected_server[0]}:{selected_server[1]}\")  # IP and Port\n",
    "\n"
   ]
  },
  {
   "cell_type": "code",
   "execution_count": 28,
   "metadata": {},
   "outputs": [
    {
     "name": "stdout",
     "output_type": "stream",
     "text": [
      "{('192.168.1.1', 8080): 15, ('192.168.1.2', 8080): 20, ('192.168.1.3', 8080): 5}\n"
     ]
    }
   ],
   "source": [
    "# Step 3: Update Server Load\n",
    "# While the server metadata is immutable (tuple), you can maintain a separate dictionary for updating load information dynamically.\n",
    "\n",
    "# Dynamic server loads stored separately\n",
    "server_loads = {server[:2]: server[2] for server in servers}  # {(IP, Port): Load}\n",
    "\n",
    "def update_server_load(ip, port, new_load):\n",
    "    key = (ip, port)\n",
    "    if key in server_loads:\n",
    "        server_loads[key] = new_load\n",
    "    else:\n",
    "        print(\"Server not found.\")\n",
    "\n",
    "# Example: Update load for Server 1\n",
    "update_server_load(\"192.168.1.1\", 8080, 15)\n",
    "print(server_loads)  # Updated load dictionary"
   ]
  }
 ],
 "metadata": {
  "kernelspec": {
   "display_name": "agentbox",
   "language": "python",
   "name": "python3"
  },
  "language_info": {
   "codemirror_mode": {
    "name": "ipython",
    "version": 3
   },
   "file_extension": ".py",
   "mimetype": "text/x-python",
   "name": "python",
   "nbconvert_exporter": "python",
   "pygments_lexer": "ipython3",
   "version": "3.13.5"
  }
 },
 "nbformat": 4,
 "nbformat_minor": 4
}
