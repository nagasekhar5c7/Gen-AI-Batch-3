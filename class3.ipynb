{
 "cells": [
  {
   "cell_type": "code",
   "execution_count": 4,
   "metadata": {},
   "outputs": [
    {
     "name": "stdout",
     "output_type": "stream",
     "text": [
      "[1, 4, 9, 16]\n"
     ]
    }
   ],
   "source": [
    "## List comprehension\n",
    "l = [1,2,3,4]\n",
    "lst=[]\n",
    "for x in range(len(l)):\n",
    "    lst.append(l[x]*l[x])\n",
    "\n",
    "print(lst)"
   ]
  },
  {
   "cell_type": "code",
   "execution_count": 6,
   "metadata": {},
   "outputs": [
    {
     "name": "stdout",
     "output_type": "stream",
     "text": [
      "[1, 4, 9, 16]\n"
     ]
    }
   ],
   "source": [
    "L = [1,2,3,4]\n",
    "new_list = [ L[i] * L[i] for i in range(len(L))]\n",
    "print(new_list)"
   ]
  },
  {
   "cell_type": "code",
   "execution_count": 7,
   "metadata": {},
   "outputs": [
    {
     "name": "stdout",
     "output_type": "stream",
     "text": [
      "[0, 1, 4, 9, 16, 25, 36, 49, 64, 81]\n"
     ]
    }
   ],
   "source": [
    "list = [iter**2 for iter in range(10)]\n",
    "print(list)"
   ]
  },
  {
   "cell_type": "code",
   "execution_count": 8,
   "metadata": {},
   "outputs": [
    {
     "name": "stdout",
     "output_type": "stream",
     "text": [
      "[5, 5, 6, 4, 13]\n",
      "[5, 5, 6, 4, 13]\n"
     ]
    }
   ],
   "source": [
    "## List Comprehension with function calls\n",
    "words = [\"hello\", \"world\", \"python\", \"list\", \"comprehension\"]\n",
    "\n",
    "len_list = []\n",
    "for i in words:\n",
    "    len_list.append(len(i))\n",
    "print(len_list)\n",
    "    \n",
    "\n",
    "lengths = [len(word) for word in words]\n",
    "print(lengths)  # Output: [5, 5, 6, 4, 13]\n"
   ]
  },
  {
   "cell_type": "code",
   "execution_count": 9,
   "metadata": {},
   "outputs": [
    {
     "name": "stdout",
     "output_type": "stream",
     "text": [
      "[1, 2, 3, 4, 5, 6, 7]\n",
      "[1, 2, 3, 4, 5, 6, 7]\n"
     ]
    }
   ],
   "source": [
    "nested = [[1, 2], [3, 4], [5, 6,7]]\n",
    "\n",
    "flat_list = []\n",
    "for item in nested: # outer\n",
    "    for i in item:  # inner\n",
    "        flat_list.append(i)\n",
    "print(flat_list)\n",
    "\n",
    "\n",
    "flat = [item for sublist in nested for item in sublist]\n",
    "print(flat) \n"
   ]
  },
  {
   "cell_type": "code",
   "execution_count": 5,
   "metadata": {},
   "outputs": [
    {
     "name": "stdout",
     "output_type": "stream",
     "text": [
      "Length: 1, Size in Bytes: 88\n",
      "Length: 5, Size in Bytes: 120\n",
      "Length: 9, Size in Bytes: 184\n",
      "Length: 17, Size in Bytes: 248\n"
     ]
    }
   ],
   "source": [
    "import sys\n",
    "\n",
    "lst = []\n",
    "prev_size = sys.getsizeof(lst)\n",
    "\n",
    "for i in range(20):\n",
    "    lst.append(i)\n",
    "    size = sys.getsizeof(lst)\n",
    "    if size != prev_size:\n",
    "        print(f\"Length: {len(lst)}, Size in Bytes: {size}\")\n",
    "        prev_size = size\n",
    "\n",
    "# Lists consume large memory when processing large datasets.\n",
    "# Instead of loading everything into memory, use generators\n"
   ]
  },
  {
   "cell_type": "code",
   "execution_count": 6,
   "metadata": {},
   "outputs": [
    {
     "name": "stdout",
     "output_type": "stream",
     "text": [
      "Pop last element: 4.991702735424042e-05\n",
      "Pop first element: 0.15999616601038724\n"
     ]
    }
   ],
   "source": [
    "import timeit\n",
    "\n",
    "large_list = list(range(10**6))  # 1 million elements\n",
    "\n",
    "# Measure pop from end (O(1))\n",
    "print(\"Pop last element:\", timeit.timeit(\"large_list.pop()\", globals=globals(), number=1000))\n",
    "\n",
    "# Measure pop from front (O(n))\n",
    "print(\"Pop first element:\", timeit.timeit(\"large_list.pop(0)\", globals=globals(), number=1000))\n"
   ]
  },
  {
   "cell_type": "code",
   "execution_count": 8,
   "metadata": {},
   "outputs": [
    {
     "name": "stdout",
     "output_type": "stream",
     "text": [
      "()\n",
      "<class 'tuple'>\n"
     ]
    }
   ],
   "source": [
    "# Tuples\n",
    "# Tuples are ordered collections of items that are immutable. They are similar to lists, but their immutability makes them different.\n",
    "\n",
    "empty_tuple=()\n",
    "print(empty_tuple)\n",
    "print(type(empty_tuple))"
   ]
  },
  {
   "cell_type": "code",
   "execution_count": 25,
   "metadata": {},
   "outputs": [
    {
     "data": {
      "text/plain": [
       "(1, 2, 3, 4, 5, 6)"
      ]
     },
     "execution_count": 25,
     "metadata": {},
     "output_type": "execute_result"
    }
   ],
   "source": [
    "numbers=tuple([1,2,3,4,5,6])\n",
    "numbers"
   ]
  },
  {
   "cell_type": "code",
   "execution_count": 10,
   "metadata": {},
   "outputs": [
    {
     "name": "stdout",
     "output_type": "stream",
     "text": [
      "3\n",
      "6\n"
     ]
    }
   ],
   "source": [
    "print(numbers[2])\n",
    "print(numbers[-1])\n"
   ]
  },
  {
   "cell_type": "code",
   "execution_count": 11,
   "metadata": {},
   "outputs": [
    {
     "data": {
      "text/plain": [
       "(1, 2, 3, 4)"
      ]
     },
     "execution_count": 11,
     "metadata": {},
     "output_type": "execute_result"
    }
   ],
   "source": [
    "numbers[0:4]"
   ]
  },
  {
   "cell_type": "code",
   "execution_count": 7,
   "metadata": {},
   "outputs": [],
   "source": [
    "t = (10,20,30,40)"
   ]
  },
  {
   "cell_type": "code",
   "execution_count": 11,
   "metadata": {},
   "outputs": [
    {
     "name": "stdout",
     "output_type": "stream",
     "text": [
      "20\n"
     ]
    },
    {
     "ename": "TypeError",
     "evalue": "'tuple' object does not support item assignment",
     "output_type": "error",
     "traceback": [
      "\u001b[0;31m---------------------------------------------------------------------------\u001b[0m",
      "\u001b[0;31mTypeError\u001b[0m                                 Traceback (most recent call last)",
      "Cell \u001b[0;32mIn[11], line 3\u001b[0m\n\u001b[1;32m      1\u001b[0m \u001b[38;5;28mprint\u001b[39m(t[\u001b[38;5;241m1\u001b[39m])\n\u001b[0;32m----> 3\u001b[0m t[\u001b[38;5;241m1\u001b[39m] \u001b[38;5;241m=\u001b[39m \u001b[38;5;241m80\u001b[39m\n",
      "\u001b[0;31mTypeError\u001b[0m: 'tuple' object does not support item assignment"
     ]
    }
   ],
   "source": [
    "print(t[1])\n",
    "\n",
    "t[1] = 80"
   ]
  },
  {
   "cell_type": "code",
   "execution_count": 27,
   "metadata": {},
   "outputs": [
    {
     "name": "stdout",
     "output_type": "stream",
     "text": [
      "(1, 2, 3, 4, 5, 6, 7, 8)\n"
     ]
    }
   ],
   "source": [
    "mixed_tuple=(7,8)\n",
    "numbers = numbers + mixed_tuple\n",
    "print(numbers)\n",
    "#print(concatenation_tuple)\n"
   ]
  },
  {
   "cell_type": "code",
   "execution_count": 13,
   "metadata": {},
   "outputs": [
    {
     "data": {
      "text/plain": [
       "(7, 8, 7, 8, 7, 8)"
      ]
     },
     "execution_count": 13,
     "metadata": {},
     "output_type": "execute_result"
    }
   ],
   "source": [
    "mixed_tuple * 3\n"
   ]
  },
  {
   "cell_type": "code",
   "execution_count": 14,
   "metadata": {},
   "outputs": [
    {
     "name": "stdout",
     "output_type": "stream",
     "text": [
      "1\n",
      "2\n"
     ]
    }
   ],
   "source": [
    "## Tuple Methods\n",
    "print(numbers.count(1))\n",
    "print(numbers.index(3))\n"
   ]
  },
  {
   "cell_type": "code",
   "execution_count": 15,
   "metadata": {},
   "outputs": [
    {
     "name": "stdout",
     "output_type": "stream",
     "text": [
      "(1, 2, 3)\n",
      "c\n"
     ]
    }
   ],
   "source": [
    "nested_tuple = ((1, 2, 3), (\"a\", \"b\", \"c\"), (True, False))\n",
    "\n",
    "## access the elements inside a tuple\n",
    "print(nested_tuple[0])\n",
    "print(nested_tuple[1][2])\n"
   ]
  },
  {
   "cell_type": "code",
   "execution_count": 16,
   "metadata": {},
   "outputs": [
    {
     "name": "stdout",
     "output_type": "stream",
     "text": [
      "1 2 3 \n",
      "a b c \n",
      "True False \n"
     ]
    }
   ],
   "source": [
    "## iterating over nested tuples\n",
    "for sub_tuple in nested_tuple:\n",
    "    for item in sub_tuple:\n",
    "        print(item,end=\" \")\n",
    "    print()"
   ]
  },
  {
   "cell_type": "code",
   "execution_count": 27,
   "metadata": {},
   "outputs": [
    {
     "name": "stdout",
     "output_type": "stream",
     "text": [
      "Redirecting request to: 192.168.1.3:8080\n"
     ]
    }
   ],
   "source": [
    "# Scenario: Load Balancer in a Distributed System\n",
    "# You’re building a load balancer for a distributed system where multiple servers process incoming user requests. The load balancer needs to:\n",
    "\n",
    "# Distribute requests efficiently across servers based on their load.\n",
    "# Track the server state (e.g., IP address, server health, and current load).\n",
    "# Ensure data consistency when multiple components read or update server information.\n",
    "# Tuples can be used here to maintain immutable server metadata while ensuring efficient operations.\n",
    "\n",
    "\n",
    "# Step 1: Represent Server Metadata with Tuples\n",
    "# Each server's metadata is stored as a tuple because:\n",
    "\n",
    "# Metadata (IP, port, etc.) is fixed and shouldn't be changed accidentally.\n",
    "# Tuples are hashable, allowing them to be used in sets or dictionaries for efficient lookups.\n",
    "\n",
    "# Server metadata: (IP, Port, Current Load)\n",
    "servers = [\n",
    "    (\"192.168.1.1\", 8080, 10),  # Server 1\n",
    "    (\"192.168.1.2\", 8080, 20),  # Server 2\n",
    "    (\"192.168.1.3\", 8080, 5),   # Server 3\n",
    "]\n",
    "\n",
    "# Step 2: Load Balancer Logic\n",
    "# The load balancer picks the server with the least load for incoming requests. Tuples ensure that metadata remains consistent and immutable.\n",
    "\n",
    "def get_least_loaded_server(servers):\n",
    "    # Find the server with the lowest load\n",
    "    return min(servers, key=lambda x: x[2])  # Sort by load (x[2])\n",
    "\n",
    "# Example Usage\n",
    "selected_server = get_least_loaded_server(servers)\n",
    "print(f\"Redirecting request to: {selected_server[0]}:{selected_server[1]}\")  # IP and Port\n",
    "\n"
   ]
  },
  {
   "cell_type": "code",
   "execution_count": 28,
   "metadata": {},
   "outputs": [
    {
     "name": "stdout",
     "output_type": "stream",
     "text": [
      "{('192.168.1.1', 8080): 15, ('192.168.1.2', 8080): 20, ('192.168.1.3', 8080): 5}\n"
     ]
    }
   ],
   "source": [
    "# Step 3: Update Server Load\n",
    "# While the server metadata is immutable (tuple), you can maintain a separate dictionary for updating load information dynamically.\n",
    "\n",
    "# Dynamic server loads stored separately\n",
    "server_loads = {server[:2]: server[2] for server in servers}  # {(IP, Port): Load}\n",
    "\n",
    "def update_server_load(ip, port, new_load):\n",
    "    key = (ip, port)\n",
    "    if key in server_loads:\n",
    "        server_loads[key] = new_load\n",
    "    else:\n",
    "        print(\"Server not found.\")\n",
    "\n",
    "# Example: Update load for Server 1\n",
    "update_server_load(\"192.168.1.1\", 8080, 15)\n",
    "print(server_loads)  # Updated load dictionary"
   ]
  },
  {
   "cell_type": "code",
   "execution_count": 29,
   "metadata": {},
   "outputs": [],
   "source": [
    "# Scenario: E-Commerce Order Processing System Using Lists\n",
    "# Problem Statement\n",
    "# You are designing an order processing system for an e-commerce platform. The system must:\n",
    "\n",
    "# Manage a queue of customer orders efficiently.\n",
    "# Process orders based on priority (first-come, first-served unless marked urgent).\n",
    "# Update order statuses dynamically (e.g., \"Pending\", \"Processing\", \"Shipped\").\n",
    "# Allow customers to cancel orders before they are shipped.\n",
    "\n",
    "# Implementation\n",
    "# Step 1: Representing Orders as Lists\n",
    "# Each order is represented as a list containing:\n",
    "\n",
    "# Order ID (string)\n",
    "# Customer Name (string)\n",
    "# Priority (\"Normal\" or \"Urgent\")\n",
    "# Status (\"Pending\", \"Processing\", \"Shipped\")\n",
    "# Items (List of purchased items)"
   ]
  },
  {
   "cell_type": "code",
   "execution_count": 30,
   "metadata": {},
   "outputs": [
    {
     "name": "stdout",
     "output_type": "stream",
     "text": [
      "Processing Order: ORD002 for Bob\n",
      "Updated Order List: [['ORD001', 'Alice', 'Normal', 'Pending', ['Laptop', 'Mouse']], ['ORD002', 'Bob', 'Urgent', 'Processing', ['Smartphone']], ['ORD003', 'Charlie', 'Normal', 'Pending', ['Monitor', 'Keyboard']]]\n"
     ]
    }
   ],
   "source": [
    "# Step 1: Represent Orders with Lists\n",
    "orders = [\n",
    "    [\"ORD001\", \"Alice\", \"Normal\", \"Pending\", [\"Laptop\", \"Mouse\"]],\n",
    "    [\"ORD002\", \"Bob\", \"Urgent\", \"Pending\", [\"Smartphone\"]],\n",
    "    [\"ORD003\", \"Charlie\", \"Normal\", \"Pending\", [\"Monitor\", \"Keyboard\"]],\n",
    "]\n",
    "\n",
    "# Step 2: Function to Process Orders\n",
    "# Orders should be processed based on priority. If an urgent order exists, process it first. Otherwise, process the oldest order.\n",
    "\n",
    "\n",
    "def process_order(orders):\n",
    "    if not orders:\n",
    "        print(\"No orders to process.\")\n",
    "        return None\n",
    "    \n",
    "    # Find urgent orders first\n",
    "    urgent_orders = [order for order in orders if order[2] == \"Urgent\"]\n",
    "    \n",
    "    if urgent_orders:\n",
    "        order_to_process = urgent_orders[0]  # Process the first urgent order\n",
    "    else:\n",
    "        order_to_process = orders[0]  # Process the first normal order\n",
    "    \n",
    "    # Update order status\n",
    "    order_to_process[3] = \"Processing\"\n",
    "    \n",
    "    return order_to_process\n",
    "\n",
    "# Example Usage\n",
    "order = process_order(orders)\n",
    "if order:\n",
    "    print(f\"Processing Order: {order[0]} for {order[1]}\")\n",
    "    print(\"Updated Order List:\", orders)\n"
   ]
  },
  {
   "cell_type": "code",
   "execution_count": 31,
   "metadata": {},
   "outputs": [
    {
     "name": "stdout",
     "output_type": "stream",
     "text": [
      "Order ORD002 has been shipped.\n",
      "Final Order List: [['ORD001', 'Alice', 'Normal', 'Pending', ['Laptop', 'Mouse']], ['ORD002', 'Bob', 'Urgent', 'Shipped', ['Smartphone']], ['ORD003', 'Charlie', 'Normal', 'Pending', ['Monitor', 'Keyboard']]]\n",
      "Order ORD003 has been canceled.\n",
      "Orders after cancellation: [['ORD001', 'Alice', 'Normal', 'Pending', ['Laptop', 'Mouse']], ['ORD002', 'Bob', 'Urgent', 'Shipped', ['Smartphone']]]\n"
     ]
    }
   ],
   "source": [
    "# Step 3: Shipping an Order\n",
    "# Once an order is processed, it should be moved to \"Shipped\" status.\n",
    "\n",
    "def ship_order(order):\n",
    "    if order and order[3] == \"Processing\":\n",
    "        order[3] = \"Shipped\"\n",
    "        print(f\"Order {order[0]} has been shipped.\")\n",
    "    else:\n",
    "        print(\"Order is not ready for shipping.\")\n",
    "\n",
    "# Example Usage\n",
    "ship_order(order)\n",
    "print(\"Final Order List:\", orders)\n",
    "\n",
    "# Step 4: Cancel an Order\n",
    "# Customers can cancel an order if it is still in the \"Pending\" state.\n",
    "\n",
    "def cancel_order(orders, order_id):\n",
    "    for order in orders:\n",
    "        if order[0] == order_id and order[3] == \"Pending\":\n",
    "            orders.remove(order)\n",
    "            print(f\"Order {order_id} has been canceled.\")\n",
    "            return\n",
    "    print(f\"Order {order_id} cannot be canceled.\")\n",
    "\n",
    "# Example Usage\n",
    "cancel_order(orders, \"ORD003\")  # Cancel Charlie's order\n",
    "print(\"Orders after cancellation:\", orders)\n",
    "\n"
   ]
  }
 ],
 "metadata": {
  "kernelspec": {
   "display_name": "py313",
   "language": "python",
   "name": "python3"
  },
  "language_info": {
   "codemirror_mode": {
    "name": "ipython",
    "version": 3
   },
   "file_extension": ".py",
   "mimetype": "text/x-python",
   "name": "python",
   "nbconvert_exporter": "python",
   "pygments_lexer": "ipython3",
   "version": "3.13.2"
  }
 },
 "nbformat": 4,
 "nbformat_minor": 4
}
